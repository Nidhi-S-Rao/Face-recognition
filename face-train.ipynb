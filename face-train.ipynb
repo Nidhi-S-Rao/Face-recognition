{
 "cells": [
  {
   "cell_type": "code",
   "execution_count": 7,
   "metadata": {},
   "outputs": [],
   "source": [
    "import os\n",
    "import cv2\n",
    "from PIL import Image\n",
    "import numpy as np\n",
    "import cv2\n",
    "import pickle\n",
    "face_cascade=cv2.CascadeClassifier('cascades/data/haarcascade_frontalface_alt2.xml')\n",
    "\n",
    "recognizer = cv2.face.LBPHFaceRecognizer_create()"
   ]
  },
  {
   "cell_type": "code",
   "execution_count": 8,
   "metadata": {},
   "outputs": [],
   "source": [
    "BASE_DIR=os.path.dirname(os.path.abspath(cv2.__file__))"
   ]
  },
  {
   "cell_type": "code",
   "execution_count": 9,
   "metadata": {},
   "outputs": [
    {
     "name": "stdout",
     "output_type": "stream",
     "text": [
      "C://Users//HP//Desktop//Projects//ML//Face recognition//images\n"
     ]
    }
   ],
   "source": [
    "image_dir='C://Users//HP//Desktop//Projects//ML//Face recognition//images'\n",
    "print(image_dir)"
   ]
  },
  {
   "cell_type": "code",
   "execution_count": 10,
   "metadata": {},
   "outputs": [
    {
     "name": "stdout",
     "output_type": "stream",
     "text": [
      "{'chandler': 0, 'joey': 1, 'monica': 2, 'phoebe': 3, 'rachel': 4, 'ross': 5}\n"
     ]
    }
   ],
   "source": [
    "#Training the model\n",
    "y_labels=[]\n",
    "x_train=[]\n",
    "current_id=0\n",
    "label_ids={}\n",
    "\n",
    "for root,dirs,files in os.walk(image_dir):\n",
    "    for file in files:\n",
    "        if file.endswith(\"png\") or file.endswith(\"jpg\"):\n",
    "            path=os.path.join(root,file)\n",
    "            label=os.path.basename(root).replace(\" \",\"-\").lower()\n",
    "            #print(label,path)\n",
    "            if not label in label_ids:\n",
    "                label_ids[label]=current_id\n",
    "                current_id += 1\n",
    "            id_=label_ids[label]\n",
    "    \n",
    "    \n",
    "           \n",
    "        \n",
    "        \n",
    "            \n",
    "            pil_image=Image.open(path).convert(\"L\")\n",
    "            image_array=np.array(pil_image,\"uint8\")\n",
    "            #print(image_array)\n",
    "            faces=face_cascade.detectMultiScale(image_array,scaleFactor=1.5, minNeighbors=5)\n",
    "            for(x,y,w,h) in faces:\n",
    "                roi=image_array[y:y+h, x:x+w]\n",
    "                x_train.append(roi)\n",
    "                y_labels.append(id_)\n",
    "                \n",
    "print(label_ids)               \n",
    "#print(y_labels)\n",
    "#print(x_train)\n",
    "            "
   ]
  },
  {
   "cell_type": "code",
   "execution_count": 11,
   "metadata": {},
   "outputs": [],
   "source": [
    "with open(\"labels.pickle\", 'wb') as f:\n",
    "    pickle.dump(label_ids,f)"
   ]
  },
  {
   "cell_type": "code",
   "execution_count": 12,
   "metadata": {},
   "outputs": [],
   "source": [
    "recognizer.train(x_train,np.array(y_labels))\n",
    "recognizer.save(\"Trainer.yml\")"
   ]
  },
  {
   "cell_type": "code",
   "execution_count": null,
   "metadata": {},
   "outputs": [],
   "source": []
  }
 ],
 "metadata": {
  "kernelspec": {
   "display_name": "Python 3",
   "language": "python",
   "name": "python3"
  },
  "language_info": {
   "codemirror_mode": {
    "name": "ipython",
    "version": 3
   },
   "file_extension": ".py",
   "mimetype": "text/x-python",
   "name": "python",
   "nbconvert_exporter": "python",
   "pygments_lexer": "ipython3",
   "version": "3.7.3"
  }
 },
 "nbformat": 4,
 "nbformat_minor": 2
}
